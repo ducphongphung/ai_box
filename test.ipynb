{
 "cells": [
  {
   "cell_type": "code",
   "execution_count": 3,
   "metadata": {},
   "outputs": [
    {
     "name": "stdout",
     "output_type": "stream",
     "text": [
      "{0: 'Fire', 1: 'default', 2: 'smoke'}\n",
      "Index: 0, Label: Fire\n",
      "Index: 1, Label: default\n",
      "Index: 2, Label: smoke\n"
     ]
    }
   ],
   "source": [
    "import torch\n",
    "from ultralytics import YOLO\n",
    "\n",
    "def _load_model():\n",
    "    model_path = '/home/quangthangggg/Documents/ai_box/src/app_core/models/best.pt'\n",
    "    model = YOLO(model_path)\n",
    "    return model\n",
    "\n",
    "def get_labels_and_indexes(model):\n",
    "    try:\n",
    "        labels = model.names\n",
    "        print(labels)\n",
    "        for idx, label in enumerate(labels):\n",
    "            print(f'Index: {idx}, Label: {labels[idx]}')\n",
    "    except AttributeError:\n",
    "        print(\"Model does not contain attribute 'names'. Please check the model file.\")\n",
    "\n",
    "model = _load_model()\n",
    "get_labels_and_indexes(model)"
   ]
  },
  {
   "cell_type": "code",
   "execution_count": 1,
   "metadata": {},
   "outputs": [
    {
     "name": "stdout",
     "output_type": "stream",
     "text": [
      "Records deleted successfully.\n"
     ]
    }
   ],
   "source": [
    "import sqlite3\n",
    "\n",
    "def delete_records_from_index_2(db_path):\n",
    "    try:\n",
    "        # Kết nối tới cơ sở dữ liệu\n",
    "        conn = sqlite3.connect(db_path)\n",
    "        cursor = conn.cursor()\n",
    "        \n",
    "        # Thực hiện câu lệnh xóa\n",
    "        cursor.execute(\"DELETE FROM users WHERE id >= 2\")\n",
    "        \n",
    "        # Lưu thay đổi\n",
    "        conn.commit()\n",
    "        \n",
    "        print(\"Records deleted successfully.\")\n",
    "    except Exception as e:\n",
    "        print(\"Error accessing database:\", e)\n",
    "    finally:\n",
    "        # Đóng kết nối\n",
    "        conn.close()\n",
    "\n",
    "# Ví dụ sử dụng\n",
    "db_path = \"/home/quangthangggg/Documents/ai_box/instance/db.sqlite\"\n",
    "delete_records_from_index_2(db_path)\n"
   ]
  },
  {
   "cell_type": "code",
   "execution_count": 2,
   "metadata": {},
   "outputs": [
    {
     "name": "stdout",
     "output_type": "stream",
     "text": [
      "['thang.nq2306@gmail.com']\n"
     ]
    }
   ],
   "source": [
    "import sqlite3\n",
    "\n",
    "def get_all_emails(db_path):\n",
    "    try:\n",
    "        db_path = \"/home/quangthangggg/Documents/ai_box/instance/db.sqlite\"\n",
    "        # Kết nối tới cơ sở dữ liệu\n",
    "        conn = sqlite3.connect(db_path)\n",
    "        cursor = conn.cursor()\n",
    "        \n",
    "        # Thực hiện truy vấn lấy tất cả email\n",
    "        cursor.execute(\"SELECT email FROM users\")\n",
    "        emails = [row[0] for row in cursor.fetchall()]\n",
    "        \n",
    "        # Đóng kết nối\n",
    "        conn.close()\n",
    "        \n",
    "        return emails\n",
    "    except Exception as e:\n",
    "        print(\"Error accessing database:\", e)\n",
    "        return []\n",
    "\n",
    "# Ví dụ sử dụng\n",
    "db_path = \"/home/quangthangggg/Documents/ai_box/instance/db.sqlite\"\n",
    "email_list = get_all_emails(db_path)\n",
    "print(email_list)\n"
   ]
  },
  {
   "cell_type": "code",
   "execution_count": 3,
   "metadata": {},
   "outputs": [
    {
     "name": "stderr",
     "output_type": "stream",
     "text": [
      "/home/quangthangggg/.local/lib/python3.10/site-packages/matplotlib/projections/__init__.py:63: UserWarning: Unable to import Axes3D. This may be due to multiple versions of Matplotlib being installed (e.g. as a system package and as a pip package). As a result, the 3D projection is not available.\n",
      "  warnings.warn(\"Unable to import Axes3D. This may be due to multiple versions of \"\n"
     ]
    }
   ],
   "source": [
    "from flask import Flask, render_template, Response, request, redirect, url_for, jsonify\n",
    "from flask_sqlalchemy import SQLAlchemy\n",
    "from flask_login import LoginManager, UserMixin, login_user, logout_user, current_user\n",
    "import sys\n",
    "from collections import deque\n",
    "from shapely import geometry\n",
    "\n",
    "# Change the path to folder ai_box\n",
    "sys.path.append('/home/quangthangggg/Documents/ai_box')\n",
    "\n",
    "from src.app_core.apps import VideoMonitorApp\n",
    "from src.app_core.controller_utils import *\n",
    "from src.app_core.conf import *\n",
    "from src.utils.common import *\n",
    "from src.cv_core.family.FamilyDetector import FamilyDetector\n",
    "import traceback\n",
    "import os\n",
    "import cv2\n",
    "import json\n",
    "import time\n",
    "import requests\n",
    "\n",
    "\n",
    "logger = dbg.get_logger(\"tt_zone\")\n",
    "\n",
    "template_dir = os.path.abspath('src/app_core/templates')\n",
    "static_dir = os.path.abspath('src/app_core/static')\n",
    "\n",
    "\n",
    "\n",
    "global capture, rec_frame, grey, switch, neg, function, rec, out, previous_time\n",
    "capture = 0\n",
    "function = ''\n",
    "switch = 1\n",
    "rec = 0\n",
    "\n",
    "\n",
    "# instantiate flask app\n",
    "app = Flask(__name__, template_folder=template_dir, static_folder=static_dir)\n",
    "app.secret_key = os.urandom(64)\n",
    "\n",
    "############################################################################################\n",
    "# Config image upload\n",
    "UPLOAD_FOLDER = 'src/uploads'\n",
    "os.makedirs(UPLOAD_FOLDER, exist_ok=True)\n",
    "app.config['UPLOAD_FOLDER'] = UPLOAD_FOLDER\n",
    "\n",
    "# Config image capture\n",
    "CAPTURE_FOLDER = 'src/shots'\n",
    "os.makedirs(CAPTURE_FOLDER, exist_ok=True)\n",
    "app.config['CAPTURE_FOLDER'] = CAPTURE_FOLDER\n",
    "\n",
    "############################################################################################\n",
    "# Connect DB\n",
    "# Tells flask-sqlalchemy what database to connect to\n",
    "app.config[\"SQLALCHEMY_DATABASE_URI\"] = \"sqlite:///db.sqlite\"\n",
    "# Enter a secret key\n",
    "app.config[\"SECRET_KEY\"] = \"ENTER YOUR SECRET KEY\"\n",
    "# Initialize flask-sqlalchemy extension\n",
    "db = SQLAlchemy()\n",
    "\n",
    "# LoginManager is needed for our application\n",
    "# to be able to log in and out users\n",
    "login_manager = LoginManager()\n",
    "login_manager.init_app(app)\n",
    "\n",
    "\n",
    "class Users(UserMixin, db.Model):\n",
    "    id = db.Column(db.Integer, primary_key=True)\n",
    "    username = db.Column(db.String(250), unique=True, nullable=False)\n",
    "    password = db.Column(db.String(250), nullable=False)\n",
    "    email = db.Column(db.String(250), unique=True, nullable=False)\n",
    "\n",
    "\n",
    "db.init_app(app)\n",
    "def get_emails():\n",
    "    try:\n",
    "        emails = [user.email for user in Users.query.all()]\n",
    "        return emails\n",
    "    except Exception as e:\n",
    "        return {\"error\": str(e)}\n",
    "    \n",
    "emails = get_emails()"
   ]
  },
  {
   "cell_type": "code",
   "execution_count": 4,
   "metadata": {},
   "outputs": [
    {
     "data": {
      "text/plain": [
       "{'error': 'Working outside of application context.\\n\\nThis typically means that you attempted to use functionality that needed\\nthe current application. To solve this, set up an application context\\nwith app.app_context(). See the documentation for more information.'}"
      ]
     },
     "execution_count": 4,
     "metadata": {},
     "output_type": "execute_result"
    }
   ],
   "source": [
    "emails"
   ]
  },
  {
   "cell_type": "code",
   "execution_count": null,
   "metadata": {},
   "outputs": [],
   "source": []
  }
 ],
 "metadata": {
  "kernelspec": {
   "display_name": "Python 3",
   "language": "python",
   "name": "python3"
  },
  "language_info": {
   "codemirror_mode": {
    "name": "ipython",
    "version": 3
   },
   "file_extension": ".py",
   "mimetype": "text/x-python",
   "name": "python",
   "nbconvert_exporter": "python",
   "pygments_lexer": "ipython3",
   "version": "3.10.12"
  }
 },
 "nbformat": 4,
 "nbformat_minor": 2
}
